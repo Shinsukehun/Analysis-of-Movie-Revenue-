{
 "cells": [
  {
   "cell_type": "code",
   "execution_count": null,
   "id": "8a6cc768-a5df-4139-8cb3-8d20bcdb2e5f",
   "metadata": {},
   "outputs": [],
   "source": [
    "import pandas as pd\n",
    "import matplotlib.pyplot as plt\n",
    "import seaborn as sns\n",
    "import numpy as np\n",
    "df = pd.read_csv('movies_dataset.csv')\n",
    "df.drop_duplicates(inplace=True)\n",
    "df.fillna(0, inplace=True)\n",
    "correlation = df['Rating'].corr(df['Revenue'])\n",
    "print(f\"Correlation between Rating and Revenue: {correlation}\")\n",
    "sns.scatterplot(x='Rating', y='Revenue', data=df)\n",
    "plt.title('Revenue vs Rating')\n",
    "plt.show()\n"
   ]
  }
 ],
 "metadata": {
  "kernelspec": {
   "display_name": "Python 3 (ipykernel)",
   "language": "python",
   "name": "python3"
  },
  "language_info": {
   "codemirror_mode": {
    "name": "ipython",
    "version": 3
   },
   "file_extension": ".py",
   "mimetype": "text/x-python",
   "name": "python",
   "nbconvert_exporter": "python",
   "pygments_lexer": "ipython3",
   "version": "3.13.1"
  }
 },
 "nbformat": 4,
 "nbformat_minor": 5
}
